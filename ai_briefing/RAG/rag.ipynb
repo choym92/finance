{
 "cells": [
  {
   "cell_type": "code",
   "execution_count": null,
   "id": "4e664b42",
   "metadata": {},
   "outputs": [],
   "source": [
    "# Create the directory (this command works as is)\n",
    "!mkdir -p 'data/10k/'\n",
    "\n",
    "# Use curl to download the files\n",
    "# The syntax changes from 'wget [url] -O [file]' to 'curl [url] -o [file]'\n",
    "!curl 'https://raw.githubusercontent.com/run-llama/llama_index/main/docs/docs/examples/data/10k/uber_2021.pdf' -o 'data/10k/uber_2021.pdf'\n",
    "!curl 'https://raw.githubusercontent.com/run-llama/llama_index/main/docs/docs/examples/data/10k/lyft_2021.pdf' -o 'data/10k/lyft_2021.pdf'"
   ]
  },
  {
   "cell_type": "code",
   "execution_count": null,
   "id": "ea0d0016",
   "metadata": {},
   "outputs": [],
   "source": [
    "\n",
    "import nest_asyncio\n",
    "\n",
    "nest_asyncio.apply()\n",
    "\n",
    "from llama_index.core import SimpleDirectoryReader, VectorStoreIndex\n",
    "from llama_index.llms.openai import OpenAI\n",
    "\n",
    "from llama_index.core.tools import QueryEngineTool, ToolMetadata\n",
    "from llama_index.core.query_engine import SubQuestionQueryEngine\n",
    "import os\n",
    "\n",
    "os.environ[\"OPENAI_API_KEY\"] = \n",
    "from llama_index.core import Settings\n",
    "\n",
    "Settings.llm = OpenAI(temperature=0.2, model=\"gpt-4.1-mini\")\n",
    "lyft_docs = SimpleDirectoryReader(\n",
    "    input_files=[\"./data/10k/lyft_2021.pdf\"]\n",
    ").load_data()\n",
    "uber_docs = SimpleDirectoryReader(\n",
    "    input_files=[\"./data/10k/uber_2021.pdf\"]\n",
    ").load_data()\n",
    "lyft_index = VectorStoreIndex.from_documents(lyft_docs)\n",
    "uber_index = VectorStoreIndex.from_documents(uber_docs)\n",
    "lyft_engine = lyft_index.as_query_engine(similarity_top_k=3)\n",
    "uber_engine = uber_index.as_query_engine(similarity_top_k=3)\n",
    "query_engine_tools = [\n",
    "    QueryEngineTool(\n",
    "        query_engine=lyft_engine,\n",
    "        metadata=ToolMetadata(\n",
    "            name=\"lyft_10k\",\n",
    "            description=(\n",
    "                \"Provides information about Lyft financials for year 2021\"\n",
    "            ),\n",
    "        ),\n",
    "    ),\n",
    "    QueryEngineTool(\n",
    "        query_engine=uber_engine,\n",
    "        metadata=ToolMetadata(\n",
    "            name=\"uber_10k\",\n",
    "            description=(\n",
    "                \"Provides information about Uber financials for year 2021\"\n",
    "            ),\n",
    "        ),\n",
    "    ),\n",
    "]\n",
    "\n",
    "s_engine = SubQuestionQueryEngine.from_defaults(\n",
    "    query_engine_tools=query_engine_tools\n",
    ")\n",
    "response = s_engine.query(\n",
    "    \"Compare and contrast the customer segments and geographies that grew the\"\n",
    "    \" fastest\"\n",
    ")\n"
   ]
  },
  {
   "cell_type": "code",
   "execution_count": 19,
   "id": "d663d95f",
   "metadata": {},
   "outputs": [
    {
     "name": "stdout",
     "output_type": "stream",
     "text": [
      "Generated 4 sub questions.\n",
      "\u001b[1;3;38;2;237;90;200m[lyft_10k] Q: What were the fastest growing customer segments for Lyft in 2021?\n",
      "\u001b[0m\u001b[1;3;38;2;90;149;237m[lyft_10k] Q: What were the fastest growing geographies for Lyft in 2021?\n",
      "\u001b[0m\u001b[1;3;38;2;11;159;203m[uber_10k] Q: What were the fastest growing customer segments for Uber in 2021?\n",
      "\u001b[0m\u001b[1;3;38;2;155;135;227m[uber_10k] Q: What were the fastest growing geographies for Uber in 2021?\n",
      "\u001b[0m\u001b[1;3;38;2;90;149;237m[lyft_10k] A: The provided information does not specify which geographies were the fastest growing for Lyft in 2021.\n",
      "\u001b[0m\u001b[1;3;38;2;155;135;227m[uber_10k] A: The context does not provide specific information about the fastest growing geographies for Uber in 2021.\n",
      "\u001b[0m\u001b[1;3;38;2;11;159;203m[uber_10k] A: The fastest growing customer segments for Uber in 2021 included members of their membership programs such as Uber One, Uber Pass, Eats Pass, and Rides Pass, which collectively exceeded 6 million members by the end of the year. Additionally, the number of active advertising merchants on their platform grew significantly, reaching over 170,000 in the fourth quarter of 2021. These segments reflect growth in both consumer membership and marketplace-centric advertising customers.\n",
      "\u001b[0m\u001b[1;3;38;2;237;90;200m[lyft_10k] A: The fastest growing customer segments for Lyft in 2021 included users of their Light Vehicles network, which consists of shared bikes and scooters, as well as riders utilizing their ridesharing marketplace. The Light Vehicles segment addressed the needs of users seeking more active, lower-priced, and efficient options for short trips, especially during heavy traffic, and supplemented multimodal trips with public transit. Additionally, the ridesharing marketplace continued to connect drivers and riders across cities in the United States and Canada, benefiting from predictive technology to optimize driver availability and rider convenience. These segments experienced growth as Lyft expanded its offerings and adapted to changing transportation demands.\n",
      "\u001b[0m"
     ]
    }
   ],
   "source": [
    "response = s_engine.query(\n",
    "    \"Compare and contrast the customer segments and geographies that grew the\"\n",
    "    \" fastest\"\n",
    ")\n"
   ]
  },
  {
   "cell_type": "code",
   "execution_count": 20,
   "id": "20e4000b",
   "metadata": {},
   "outputs": [
    {
     "name": "stdout",
     "output_type": "stream",
     "text": [
      "The Borrower and its Restricted Subsidiaries are duly organized and in good standing under applicable laws, with the necessary powers to conduct their business (p. 249). The Transactions have been authorized and executed, constituting legal obligations enforceable in accordance with their terms, subject to certain legal principles (p. 249). Additionally, the Borrower has provided its consolidated financial statements, which fairly present its financial position as of specified dates, with no material adverse changes noted since December 31, 2014 (p. 249)."
     ]
    }
   ],
   "source": [
    "from llama_index.core import SimpleDirectoryReader, VectorStoreIndex\n",
    "from llama_index.llms.openai import OpenAI\n",
    "\n",
    "# 0.  Your OpenAI credentials: ensure OPENAI_API_KEY is in your env\n",
    "#     or pass it as OpenAI(api_key=\"…\").\n",
    "llm = OpenAI(model=\"gpt-4o-mini\")          # pick your model / temperature\n",
    "\n",
    "# 1.  Load any PDF(s) you like\n",
    "reader = SimpleDirectoryReader(input_files=[\"./data/10k/uber_2021.pdf\"])\n",
    "docs   = reader.load_data()\n",
    "\n",
    "# 2.  Build an index\n",
    "index = VectorStoreIndex.from_documents(docs)\n",
    "\n",
    "# 3.  Ask questions\n",
    "engine   = index.as_query_engine(streaming=True, similarity_top_k=4, llm=llm)\n",
    "response = engine.query(\"Give me a 3-sentence summary with page citations.\")\n",
    "response.print_response_stream()           # streams answer w/ “(page X)” refs"
   ]
  },
  {
   "cell_type": "code",
   "execution_count": null,
   "id": "5c46d892",
   "metadata": {},
   "outputs": [],
   "source": []
  }
 ],
 "metadata": {
  "kernelspec": {
   "display_name": "finance-ai",
   "language": "python",
   "name": "python3"
  },
  "language_info": {
   "codemirror_mode": {
    "name": "ipython",
    "version": 3
   },
   "file_extension": ".py",
   "mimetype": "text/x-python",
   "name": "python",
   "nbconvert_exporter": "python",
   "pygments_lexer": "ipython3",
   "version": "3.12.5"
  }
 },
 "nbformat": 4,
 "nbformat_minor": 5
}
